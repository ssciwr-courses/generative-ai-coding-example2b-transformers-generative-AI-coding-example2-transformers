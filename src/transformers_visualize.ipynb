{
 "cells": [
  {
   "cell_type": "markdown",
   "metadata": {},
   "source": [
    "# Notebook to visualize the output from the transformers pipeline\n",
    "## ISUlusoy, generative AI (research) software, June 2024\n",
    "We will use the data from here: https://huggingface.co/datasets/olivierdehaene/xkcd"
   ]
  },
  {
   "cell_type": "code",
   "execution_count": null,
   "metadata": {},
   "outputs": [],
   "source": [
    "import example2transformers as e2t\n",
    "import matplotlib.pyplot as plt"
   ]
  },
  {
   "cell_type": "code",
   "execution_count": null,
   "metadata": {},
   "outputs": [],
   "source": [
    "URL = \"olivierdehaene/xkcd\"\n",
    "da = e2t.DataAnalysis(URL)"
   ]
  },
  {
   "cell_type": "code",
   "execution_count": null,
   "metadata": {},
   "outputs": [],
   "source": [
    "# process the data step by step\n",
    "da.get_dataset()"
   ]
  },
  {
   "cell_type": "code",
   "execution_count": null,
   "metadata": {},
   "outputs": [],
   "source": [
    "da.print_info()"
   ]
  },
  {
   "cell_type": "code",
   "execution_count": null,
   "metadata": {},
   "outputs": [],
   "source": [
    "da.set_pipeline(\"sentiment-analysis\")\n",
    "output = da.analyze_fragment(5, \"title\")\n",
    "for i, o in enumerate(output):\n",
    "    title = da.dataset[\"train\"][\"title\"][i]\n",
    "    print(f\"Title {i}: {title} - {o}\")"
   ]
  },
  {
   "cell_type": "code",
   "execution_count": null,
   "metadata": {},
   "outputs": [],
   "source": [
    "# get count of all negative and positive sentiments\n",
    "no_positive = sum([1 for o in output if o[\"label\"] == \"POSITIVE\"])\n",
    "no_negative = sum([1 for o in output if o[\"label\"] == \"NEGATIVE\"])\n",
    "# could add if condition to only use if confidence is high enough\n",
    "print(no_positive, no_negative)"
   ]
  },
  {
   "cell_type": "code",
   "execution_count": null,
   "metadata": {},
   "outputs": [],
   "source": [
    "# bar plot of positive and negative sentiments\n",
    "plt.bar([\"Positive\", \"Negative\"], [no_positive, no_negative])\n",
    "plt.show()"
   ]
  },
  {
   "cell_type": "code",
   "execution_count": null,
   "metadata": {},
   "outputs": [],
   "source": [
    "output_all = da.analyze_all(\"title\")"
   ]
  },
  {
   "cell_type": "code",
   "execution_count": null,
   "metadata": {},
   "outputs": [],
   "source": [
    "# get count of all negative and positive sentiments\n",
    "no_positive_all = sum([1 for o in output_all if o[\"label\"] == \"POSITIVE\"])\n",
    "no_negative_all = sum([1 for o in output_all if o[\"label\"] == \"NEGATIVE\"])\n",
    "# could add if condition to only use if confidence is high enough\n",
    "print(no_positive_all, no_negative_all)"
   ]
  },
  {
   "cell_type": "code",
   "execution_count": null,
   "metadata": {},
   "outputs": [],
   "source": [
    "# bar plot of positive and negative sentiments\n",
    "plt.bar([\"Positive\", \"Negative\"], [no_positive_all, no_negative_all])\n",
    "plt.show()"
   ]
  },
  {
   "cell_type": "code",
   "execution_count": null,
   "metadata": {},
   "outputs": [],
   "source": []
  }
 ],
 "metadata": {
  "kernelspec": {
   "display_name": "genai-2a",
   "language": "python",
   "name": "python3"
  },
  "language_info": {
   "codemirror_mode": {
    "name": "ipython",
    "version": 3
   },
   "file_extension": ".py",
   "mimetype": "text/x-python",
   "name": "python",
   "nbconvert_exporter": "python",
   "pygments_lexer": "ipython3",
   "version": "3.11.9"
  }
 },
 "nbformat": 4,
 "nbformat_minor": 2
}
